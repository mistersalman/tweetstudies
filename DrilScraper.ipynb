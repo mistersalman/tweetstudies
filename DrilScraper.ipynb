{
 "cells": [
  {
   "cell_type": "code",
   "execution_count": null,
   "metadata": {},
   "outputs": [],
   "source": [
    "#import libraries to help pull and store info in csv\n",
    "import sys\n",
    "import csv\n",
    "import tokeninfo\n",
    "import json\n",
    "import tweepy"
   ]
  },
  {
   "cell_type": "code",
   "execution_count": null,
   "metadata": {},
   "outputs": [],
   "source": [
    "#pull token info from separate file\n",
    "ckey = tokeninfo.capikey\n",
    "csec = tokeninfo.capisec\n",
    "akey = tokeninfo.accstok\n",
    "asec = tokeninfo.accssec"
   ]
  },
  {
   "cell_type": "code",
   "execution_count": null,
   "metadata": {
    "scrolled": false
   },
   "outputs": [],
   "source": [
    "auth = tweepy.OAuthHandler(ckey, csec)\n",
    "auth.set_access_token(akey, asec)\n",
    "api = tweepy.API(auth)"
   ]
  },
  {
   "cell_type": "code",
   "execution_count": null,
   "metadata": {},
   "outputs": [],
   "source": [
    "driltweets = [['Timestamp', 'Full_Text', 'Is_Retweet', 'Favorites', 'Retweets']]\n",
    "for tweet in tweepy.Cursor(api.user_timeline, screen_name='dril', tweet_mode='extended').items(10000):\n",
    "    driltweets.append([tweet.created_at, tweet.full_text, tweet.retweeted, tweet.favorite_count, tweet.retweet_count])"
   ]
  },
  {
   "cell_type": "code",
   "execution_count": null,
   "metadata": {
    "scrolled": true
   },
   "outputs": [],
   "source": [
    "driltweets"
   ]
  },
  {
   "cell_type": "code",
   "execution_count": null,
   "metadata": {},
   "outputs": [],
   "source": []
  }
 ],
 "metadata": {
  "kernelspec": {
   "display_name": "Python 3",
   "language": "python",
   "name": "python3"
  },
  "language_info": {
   "codemirror_mode": {
    "name": "ipython",
    "version": 3
   },
   "file_extension": ".py",
   "mimetype": "text/x-python",
   "name": "python",
   "nbconvert_exporter": "python",
   "pygments_lexer": "ipython3",
   "version": "3.7.2"
  }
 },
 "nbformat": 4,
 "nbformat_minor": 2
}
